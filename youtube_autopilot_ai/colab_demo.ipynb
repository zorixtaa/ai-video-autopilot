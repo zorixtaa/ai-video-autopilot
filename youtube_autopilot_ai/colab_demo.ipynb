{
 "cells": [
  {
   "cell_type": "markdown",
   "id": "ce06e498",
   "metadata": {},
   "source": [
    "# AI Video Autopilot Demo on Google Colab\n",
    "\n",
    "This notebook demonstrates how to set up and run the AI Video Autopilot application in a Google Colab environment. It clones the repository, installs the necessary dependencies, generates a sample video using trending AI news, and shows how to launch the Flask admin dashboard via ngrok.\n",
    "\n",
    "> **Note:** Running the Flask dashboard requires installing `flask_ngrok` and will expose a public URL via ngrok. Ensure you understand the security implications before proceeding.\n"
   ]
  },
  {
   "cell_type": "code",
   "execution_count": null,
   "id": "ced6a53f",
   "metadata": {},
   "outputs": [],
   "source": [
    "# Clone the repository (if not already cloned)\n",
    "!git clone https://github.com/zorixtaa/ai-video-autopilot.git --quiet\n",
    "%cd ai-video-autopilot/youtube_autopilot_ai\n",
    "\n",
    "# Install required Python packages\n",
    "!pip install -q Flask requests gTTS beautifulsoup4 pillow flask-ngrok\n"
   ]
  },
  {
   "cell_type": "code",
   "execution_count": null,
   "id": "770941bf",
   "metadata": {},
   "outputs": [],
   "source": [
    "# Run the autopilot to generate a video from trending AI topics\n",
    "from autopilot import run_autopilot\n",
    "\n",
    "# You can optionally override topics by passing a list of strings\n",
    "video_path = run_autopilot()\n",
    "\n",
    "print(f\"Generated video saved at: {video_path}\")\n"
   ]
  },
  {
   "cell_type": "code",
   "execution_count": null,
   "id": "aed2c409",
   "metadata": {},
   "outputs": [],
   "source": [
    "# OPTIONAL: Launch the Flask admin dashboard using ngrok\n",
    "# This exposes a public URL so you can interact with the dashboard UI.\n",
    "\n",
    "from flask_ngrok import run_with_ngrok\n",
    "from app import app\n",
    "\n",
    "# Run the app with ngrok\n",
    "run_with_ngrok(app)\n",
    "app.run()\n"
   ]
  }
 ],
 "metadata": {
  "kernelspec": {
   "display_name": "Python 3",
   "language": "python",
   "name": "python3"
  },
  "language_info": {
   "file_extension": ".py",
   "mimetype": "text/x-python",
   "name": "python",
   "version": "3.x"
  }
 },
 "nbformat": 4,
 "nbformat_minor": 5
}
